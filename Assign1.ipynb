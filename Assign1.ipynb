{
  "nbformat": 4,
  "nbformat_minor": 0,
  "metadata": {
    "colab": {
      "provenance": [],
      "authorship_tag": "ABX9TyPDXKwA2YZRUybCj7EP3E6V",
      "include_colab_link": true
    },
    "kernelspec": {
      "name": "python3",
      "display_name": "Python 3"
    },
    "language_info": {
      "name": "python"
    }
  },
  "cells": [
    {
      "cell_type": "markdown",
      "metadata": {
        "id": "view-in-github",
        "colab_type": "text"
      },
      "source": [
        "<a href=\"https://colab.research.google.com/github/2303A52361/2303A52361_SML/blob/main/Assign1.ipynb\" target=\"_parent\"><img src=\"https://colab.research.google.com/assets/colab-badge.svg\" alt=\"Open In Colab\"/></a>"
      ]
    },
    {
      "cell_type": "markdown",
      "source": [
        "Assignment-1"
      ],
      "metadata": {
        "id": "sTwL9iySMgWK"
      }
    },
    {
      "cell_type": "code",
      "source": [
        "import numpy as np\n",
        "import pandas as pd\n",
        "import matplotlib.pyplot as plt\n",
        "from scipy.stats import mode,skew,kurtosis"
      ],
      "metadata": {
        "id": "vmLpga4wNFxS"
      },
      "execution_count": 1,
      "outputs": []
    },
    {
      "cell_type": "code",
      "source": [
        "X =[2.3, 2.5, 3.6, 2.8, 3.1, 2.9, 3.2, 2.7, 2.8, 3.0]"
      ],
      "metadata": {
        "id": "9uWSOyN8NdDp"
      },
      "execution_count": 2,
      "outputs": []
    },
    {
      "cell_type": "markdown",
      "source": [
        "Question 1:\n",
        "\n",
        "Compute the density of the data using a Histogram with 5 bins\n",
        "\n"
      ],
      "metadata": {
        "id": "QNlIboCdNlkK"
      }
    },
    {
      "cell_type": "code",
      "source": [
        "plt.hist(X, bins=5, density=True, alpha=0.7, color='brown', edgecolor='black')\n",
        "plt.title('Histogram of X with 5 bins')\n",
        "plt.xlabel('X Value')\n",
        "plt.ylabel('density')\n",
        "plt.show()"
      ],
      "metadata": {
        "colab": {
          "base_uri": "https://localhost:8080/",
          "height": 472
        },
        "id": "D0Ru6sdCNqMy",
        "outputId": "530233bf-1117-4f52-cc69-bf4c40e081f7"
      },
      "execution_count": 26,
      "outputs": [
        {
          "output_type": "display_data",
          "data": {
            "text/plain": [
              "<Figure size 640x480 with 1 Axes>"
            ],
            "image/png": "[encoded data removed]"
          },
          "metadata": {}
        }
      ]
    },
    {
      "cell_type": "markdown",
      "source": [
        "Question 2:\n",
        "Calculate statistical measures for x and y"
      ],
      "metadata": {
        "id": "mAyeXORdOkpA"
      }
    },
    {
      "cell_type": "code",
      "source": [
        "import numpy as np\n",
        "import pandas as pd\n",
        "import matplotlib.pyplot as plt\n",
        "from scipy.stats import mode,skew,kurtosis"
      ],
      "metadata": {
        "id": "AxEoKjDTOobG"
      },
      "execution_count": 6,
      "outputs": []
    },
    {
      "cell_type": "code",
      "source": [
        "Y=[4,5,8,2,4,2,7,5]\n",
        "X_independent=[5,6,3,8,3,7,3,8]"
      ],
      "metadata": {
        "id": "S8F5hDXsOvWy"
      },
      "execution_count": 7,
      "outputs": []
    },
    {
      "cell_type": "code",
      "source": [
        "def calculate_statistics(data):\n",
        "  data_mean = np.mean(data)\n",
        "  data_median = np.median(data)\n",
        "  data_mode = mode(data).mode\n",
        "  data_variance = np.var(data)\n",
        "  data_std_dev = np.std(data)\n",
        "  data_range = np.ptp(data)\n",
        "  data_iqr = np.percentile(data, 75) - np.percentile(data, 25)\n",
        "  data_skewness = skew(data)\n",
        "  data_kurtosis = kurtosis(data)\n",
        "  return {\n",
        "      \"Mean\": data_mean,\n",
        "      \"Median\": data_median,\n",
        "      \"Mode\": data_mode,\n",
        "      \"Variance\": data_variance,\n",
        "      \"Standard Deviation\": data_std_dev,\n",
        "      \"Range\": data_range,\n",
        "      \"Interquartile Range (IQR)\": data_iqr,\n",
        "      \"Skewness\": data_skewness,\n",
        "      \"Kurtosis\": data_kurtosis\n",
        "}"
      ],
      "metadata": {
        "id": "EzsqL_xsO7dn"
      },
      "execution_count": 8,
      "outputs": []
    },
    {
      "cell_type": "markdown",
      "source": [
        "Calculation statistics for x and y"
      ],
      "metadata": {
        "id": "7WLL1vwMQhdC"
      }
    },
    {
      "cell_type": "code",
      "source": [
        "X_stats = calculate_statistics(X)\n",
        "Y_stats = calculate_statistics(Y)"
      ],
      "metadata": {
        "id": "A2SM62F3Qjkd"
      },
      "execution_count": 11,
      "outputs": []
    },
    {
      "cell_type": "markdown",
      "source": [
        "Display statistics for x and y"
      ],
      "metadata": {
        "id": "kpwEYoyAQ48J"
      }
    },
    {
      "cell_type": "code",
      "source": [
        "print(\"Statistics for X:\")\n",
        "for stat, value in X_stats.items():\n",
        "   print(f\"{stat}: {value}\")\n",
        "print(\"\\nStatistics for Y:\")\n",
        "for stat, value in Y_stats.items():\n",
        "   print(f\"{stat}: {value}\")"
      ],
      "metadata": {
        "colab": {
          "base_uri": "https://localhost:8080/"
        },
        "id": "OPpVfLqhRAR6",
        "outputId": "92eb36fc-da10-42f0-c91f-b8ee140081b4"
      },
      "execution_count": 12,
      "outputs": [
        {
          "output_type": "stream",
          "name": "stdout",
          "text": [
            "Statistics for X:\n",
            "Mean: 2.89\n",
            "Median: 2.8499999999999996\n",
            "Mode: 2.8\n",
            "Variance: 0.12090000000000005\n",
            "Standard Deviation: 0.3477067730142743\n",
            "Range: 1.3000000000000003\n",
            "Interquartile Range (IQR): 0.3500000000000001\n",
            "Skewness: 0.2980178611012123\n",
            "Kurtosis: -0.18689850931906538\n",
            "\n",
            "Statistics for Y:\n",
            "Mean: 4.625\n",
            "Median: 4.5\n",
            "Mode: 2\n",
            "Variance: 3.984375\n",
            "Standard Deviation: 1.996089927833914\n",
            "Range: 6\n",
            "Interquartile Range (IQR): 2.0\n",
            "Skewness: 0.24017543399265734\n",
            "Kurtosis: -0.9774394463667821\n"
          ]
        }
      ]
    },
    {
      "cell_type": "markdown",
      "source": [
        "Question 3:\n",
        "\n",
        "Find statistical measures for the features of the given table"
      ],
      "metadata": {
        "id": "Qwo2vo00Rr-h"
      }
    },
    {
      "cell_type": "code",
      "source": [
        "Y=[4, 5, 8, 2, 4, 2, 7, 5]\n",
        "X_independent= [5, 6, 3, 8, 3, 7, 8]\n",
        "min_length = min(len(Y), len(X_independent))\n",
        "Y = Y[:min_length]\n",
        "X_independent = X_independent[:min_length]\n",
        "XY_df = pd.DataFrame({'Y': Y, 'X': X_independent})\n",
        "XY_stats=XY_df.describe().T\n",
        "XY_stats['IQR'] = XY_stats['75%'] - XY_stats['25%']\n",
        "XY_stats['Skewness'] = XY_df.apply(lambda x: skew(x))\n",
        "XY_stats['Kurtosis'] = XY_df.apply(lambda x: kurtosis(x))\n",
        "print(\"\\nStatistical measures for the features in the given table:\")\n",
        "print(XY_stats)"
      ],
      "metadata": {
        "colab": {
          "base_uri": "https://localhost:8080/"
        },
        "id": "mVTZDvMIRxxi",
        "outputId": "e4612513-9736-4bfc-dcfd-527baf6690cb"
      },
      "execution_count": 25,
      "outputs": [
        {
          "output_type": "stream",
          "name": "stdout",
          "text": [
            "\n",
            "Statistical measures for the features in the given table:\n",
            "   count      mean       std  min  25%  50%  75%  max  IQR  Skewness  Kurtosis\n",
            "Y    7.0  4.571429  2.299068  2.0  3.0  4.0  6.0  8.0  3.0  0.301113 -1.185902\n",
            "X    7.0  5.714286  2.138090  3.0  4.0  6.0  7.5  8.0  3.5 -0.263867 -1.454102\n"
          ]
        }
      ]
    }
  ]
}