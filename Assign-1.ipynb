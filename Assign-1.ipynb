{
  "nbformat": 4,
  "nbformat_minor": 0,
  "metadata": {
    "colab": {
      "provenance": [],
      "authorship_tag": "ABX9TyMEmKA3M92S/IgUXM0RGPfI",
      "include_colab_link": true
    },
    "kernelspec": {
      "name": "python3",
      "display_name": "Python 3"
    },
    "language_info": {
      "name": "python"
    }
  },
  "cells": [
    {
      "cell_type": "markdown",
      "metadata": {
        "id": "view-in-github",
        "colab_type": "text"
      },
      "source": [
        "<a href=\"https://colab.research.google.com/github/2303A52361/2303A52361_SML/blob/main/Assign-1.ipynb\" target=\"_parent\"><img src=\"https://colab.research.google.com/assets/colab-badge.svg\" alt=\"Open In Colab\"/></a>"
      ]
    },
    {
      "cell_type": "code",
      "source": [
        "import numpy as np\n",
        "import pandas as pd\n",
        "import matplotlib.pyplot as plt\n",
        "from scipy.stats import mode,skew,kurtosis\n"
      ],
      "metadata": {
        "id": "tJG-hCCqmDGA"
      },
      "execution_count": null,
      "outputs": []
    },
    {
      "cell_type": "code",
      "source": [
        "X=[2.3, 2.5, 3.6, 2.8, 3.1, 2.9, 3.2, 2.7, 2.8, 3.0]"
      ],
      "metadata": {
        "id": "ctUnJYEemHGr"
      },
      "execution_count": 29,
      "outputs": []
    },
    {
      "cell_type": "markdown",
      "source": [
        "Question-1  \n",
        "Compute the density of the data using a histogram with 5 bins"
      ],
      "metadata": {
        "id": "TBS4QyX1nDyQ"
      }
    },
    {
      "cell_type": "code",
      "source": [
        "plt.hist(X, bins=5, density=True, alpha=0.8, color='brown',edgecolor='black')\n",
        "plt.title('Histogram of X with 5 bins')\n",
        "plt.xlabel('X values')\n",
        "plt.ylabel('density')\n",
        "plt.show()"
      ],
      "metadata": {
        "colab": {
          "base_uri": "https://localhost:8080/",
          "height": 472
        },
        "id": "x5W9vj7NndzT",
        "outputId": "a15d8a1f-946e-4882-d941-900eb43ddad0"
      },
      "execution_count": 32,
      "outputs": [
        {
          "output_type": "display_data",
          "data": {
            "text/plain": [
              "<Figure size 640x480 with 1 Axes>"
            ],
            "image/png": "[encoded data removed]"
          },
          "metadata": {}
        }
      ]
    },
    {
      "cell_type": "markdown",
      "source": [],
      "metadata": {
        "id": "C0kFAmatsI9F"
      }
    },
    {
      "cell_type": "markdown",
      "source": [
        "Question-2\n",
        "\n",
        "Calculate Statistical Measures for X and Y"
      ],
      "metadata": {
        "id": "tnWN8RgQqjvM"
      }
    },
    {
      "cell_type": "code",
      "source": [
        "import numpy as np\n",
        "import pandas as pd\n",
        "import matplotlib.pyplot as plt\n",
        "from scipy.stats import mode,skew,kurtosis"
      ],
      "metadata": {
        "id": "144dKipysfsm"
      },
      "execution_count": 33,
      "outputs": []
    },
    {
      "cell_type": "code",
      "source": [
        "X_independent = ([5, 6, 3, 8, 3, 7, 3, 8])\n",
        "Y_dependent = ([4, 5, 8, 2, 4, 2, 7, 5])"
      ],
      "metadata": {
        "id": "pZPBXAkPtCY0"
      },
      "execution_count": 35,
      "outputs": []
    },
    {
      "cell_type": "code",
      "source": [
        "def compute_statistics(data):\n",
        "    mean = np.mean(data)\n",
        "    median = np.median(data)\n",
        "    mode = stats.mode(data, keepdims=True).mode[0]\n",
        "    variance = np.var(data, ddof=1)\n",
        "    std_dev = np.std(data, ddof=1)\n",
        "    data_range = np.ptp(data)\n",
        "    iqr = stats.iqr(data)\n",
        "    skewness = stats.skew(data)\n",
        "    kurtosis = stats.kurtosis(data)\n",
        "\n",
        "    return {\n",
        "        \"Mean\": mean,\n",
        "        \"Median\": median,\n",
        "        \"Mode\": mode,\n",
        "        \"Variance\": variance,\n",
        "        \"Standard Deviation\": std_dev,\n",
        "        \"Range\": data_range,\n",
        "        \"Interquartile Range (IQR)\": iqr,\n",
        "        \"Skewness\": skewness,\n",
        "        \"Kurtosis\": kurtosis\n",
        "    }"
      ],
      "metadata": {
        "id": "KmVXnPdsuQol"
      },
      "execution_count": 52,
      "outputs": []
    },
    {
      "cell_type": "markdown",
      "source": [
        "Calculation statistics for x and y"
      ],
      "metadata": {
        "id": "1q5ijd5VxSZX"
      }
    },
    {
      "cell_type": "code",
      "source": [
        "X_stats = calculate_statistics(X)\n",
        "Y_stats = calculate_statistics(Y)"
      ],
      "metadata": {
        "id": "uWFmhyhdxXpe"
      },
      "execution_count": 48,
      "outputs": []
    },
    {
      "cell_type": "markdown",
      "source": [
        "Display statistics for x and y"
      ],
      "metadata": {
        "id": "-AG8HZ8Kyaw0"
      }
    },
    {
      "cell_type": "code",
      "source": [
        "print(\"Statistics for Independent Variables (X):\")\n",
        "for stat, value in X_stats.items():\n",
        "    print(f\"{stat}: {value}\")\n",
        "\n",
        "print(\"\\nStatistics for Dependent Variables (Y):\")\n",
        "for stat, value in Y_stats.items():\n",
        "    print(f\"{stat}: {value}\")\n",
        "\n",
        "print(\"Statistics for Independent Variables (X):\")\n",
        "for stat, value in X_stats.items():\n",
        "    print(f\"{stat}: {value}\")\n",
        "\n",
        "print(\"\\nStatistics for Dependent Variables (Y):\")\n",
        "for stat, value in Y_stats.items():\n",
        "    print(f\"{stat}: {value}\")"
      ],
      "metadata": {
        "colab": {
          "base_uri": "https://localhost:8080/"
        },
        "id": "X9eLOAluyp27",
        "outputId": "09b24ca9-2d92-4f45-cba1-5de709f2896f"
      },
      "execution_count": 59,
      "outputs": [
        {
          "output_type": "stream",
          "name": "stdout",
          "text": [
            "Statistics for Independent Variables (X):\n",
            "Mean: 2.89\n",
            "Median: 2.8499999999999996\n",
            "Mode: 2.8\n",
            "Variance: 0.12090000000000005\n",
            "Standard Deviation: 0.3477067730142743\n",
            "Range: 1.3000000000000003\n",
            "Interquartile Range (IQR): 0.3500000000000001\n",
            "Skewness: 0.2980178611012123\n",
            "Kurtosis: -0.18689850931906538\n",
            "\n",
            "Statistics for Dependent Variables (Y):\n",
            "Mean: 4.625\n",
            "Median: 4.5\n",
            "Mode: 2\n",
            "Variance: 3.984375\n",
            "Standard Deviation: 1.996089927833914\n",
            "Range: 6\n",
            "Interquartile Range (IQR): 2.0\n",
            "Skewness: 0.24017543399265734\n",
            "Kurtosis: -0.9774394463667821\n",
            "Statistics for Independent Variables (X):\n",
            "Mean: 2.89\n",
            "Median: 2.8499999999999996\n",
            "Mode: 2.8\n",
            "Variance: 0.12090000000000005\n",
            "Standard Deviation: 0.3477067730142743\n",
            "Range: 1.3000000000000003\n",
            "Interquartile Range (IQR): 0.3500000000000001\n",
            "Skewness: 0.2980178611012123\n",
            "Kurtosis: -0.18689850931906538\n",
            "\n",
            "Statistics for Dependent Variables (Y):\n",
            "Mean: 4.625\n",
            "Median: 4.5\n",
            "Mode: 2\n",
            "Variance: 3.984375\n",
            "Standard Deviation: 1.996089927833914\n",
            "Range: 6\n",
            "Interquartile Range (IQR): 2.0\n",
            "Skewness: 0.24017543399265734\n",
            "Kurtosis: -0.9774394463667821\n"
          ]
        }
      ]
    },
    {
      "cell_type": "markdown",
      "source": [
        "Question-3\n",
        "\n",
        "Find statistical measures for the features of the given table"
      ],
      "metadata": {
        "id": "eC_XBHgZ335b"
      }
    },
    {
      "cell_type": "code",
      "source": [
        "import numpy as np\n",
        "import scipy.stats as stats\n",
        "X_independent = ([5, 6, 3, 8, 3, 7, 3, 8])\n",
        "Y_dependent = ([4, 5, 8, 2, 4, 2, 7, 5])"
      ],
      "metadata": {
        "id": "IsddYP1z4J4U"
      },
      "execution_count": 69,
      "outputs": []
    },
    {
      "cell_type": "code",
      "source": [
        "def compute_statistics(data):\n",
        "    mean = np.mean(data)\n",
        "    median = np.median(data)\n",
        "    mode = stats.mode(data, keepdims=True).mode[0]\n",
        "    variance = np.var(data, ddof=1)\n",
        "    std_dev = np.std(data, ddof=1)\n",
        "    data_range = np.ptp(data)\n",
        "    iqr = stats.iqr(data)\n",
        "    skewness = stats.skew(data)\n",
        "    kurtosis = stats.kurtosis(data)\n",
        "\n",
        "    return {\n",
        "    \"Mean\": mean,\n",
        "    \"Median\": median,\n",
        "    \"Mode\": mode,\n",
        "    \"Variance\": variance,\n",
        "    \"Standard Deviation\": std_dev,\n",
        "    \"Range\": data_range,\n",
        "    \"Interquartile Range (IQR)\": iqr,\n",
        "    \"Skewness\": skewness,\n",
        "    \"Kurtosis\": kurtosis\n",
        "    }"
      ],
      "metadata": {
        "id": "8-3oGbUW5plF"
      },
      "execution_count": 61,
      "outputs": []
    },
    {
      "cell_type": "code",
      "source": [],
      "metadata": {
        "id": "36MO2p7G8jH5"
      },
      "execution_count": null,
      "outputs": []
    },
    {
      "cell_type": "code",
      "source": [
        "X_stats = compute_statistics(X)\n",
        "Y_stats = compute_statistics(Y)"
      ],
      "metadata": {
        "id": "V1EdJysI8O1E"
      },
      "execution_count": 73,
      "outputs": []
    },
    {
      "cell_type": "code",
      "source": [
        "print(\"Statistics for Independent Variables (x):\")\n",
        "for stat, value in X_stats.items():\n",
        "    print(f\"{stat}: {value}\")\n",
        "\n",
        "print(\"\\nStatistics for Dependent Variables (y):\")\n",
        "for stat, value in Y_stats.items():\n",
        "    print(f\"{stat}: {value}\")"
      ],
      "metadata": {
        "colab": {
          "base_uri": "https://localhost:8080/"
        },
        "id": "MeJM8aAv6hv7",
        "outputId": "3892270e-1ed0-48ac-b36b-6334964b1c73"
      },
      "execution_count": 75,
      "outputs": [
        {
          "output_type": "stream",
          "name": "stdout",
          "text": [
            "Statistics for Independent Variables (x):\n",
            "Mean: 2.89\n",
            "Median: 2.8499999999999996\n",
            "Mode: 2.8\n",
            "Variance: 0.1343333333333334\n",
            "Standard Deviation: 0.36651512019742566\n",
            "Range: 1.3000000000000003\n",
            "Interquartile Range (IQR): 0.3500000000000001\n",
            "Skewness: 0.2980178611012123\n",
            "Kurtosis: -0.18689850931906538\n",
            "\n",
            "Statistics for Dependent Variables (y):\n",
            "Mean: 4.625\n",
            "Median: 4.5\n",
            "Mode: 2\n",
            "Variance: 4.553571428571429\n",
            "Standard Deviation: 2.1339098923270936\n",
            "Range: 6\n",
            "Interquartile Range (IQR): 2.0\n",
            "Skewness: 0.24017543399265734\n",
            "Kurtosis: -0.9774394463667821\n"
          ]
        }
      ]
    }
  ]
}